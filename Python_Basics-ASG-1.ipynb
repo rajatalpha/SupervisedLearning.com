{
 "cells": [
  {
   "cell_type": "markdown",
   "metadata": {},
   "source": [
    "Questions on String\n",
    "\n",
    "Let's take the following string\n",
    "\n",
    "\"I am very keen in building up my career in Data Science, but not sure from where to start. If I search the web it throws me thousands of articles, few are relevant others make me confused, again I come around to the same page. Supervised has provided me a good platform to remove all such qualms which were wrangling in my mind\""
   ]
  },
  {
   "cell_type": "code",
   "execution_count": 9,
   "metadata": {
    "collapsed": true
   },
   "outputs": [],
   "source": [
    "s=\"I am very keen in building up my career in Data Science, but not sure from where to start. If I search the web it throws me thousands of articles, few are relevant others make me confused, again I come around to the same page. Supervised has provided me a good platform to remove all such qualms which were wrangling in my mind\"\n"
   ]
  },
  {
   "cell_type": "code",
   "execution_count": 12,
   "metadata": {},
   "outputs": [
    {
     "name": "stdout",
     "output_type": "stream",
     "text": [
      "4.2063492063492065\n"
     ]
    }
   ],
   "source": [
    "# 1)Consider the above text as a string, figure out the average length of the string.\n",
    "words = s.split()\n",
    "#print(words)\n",
    "wordCount = len(words)\n",
    "#print(wordCount)\n",
    "sum = 0\n",
    "for word in words:\n",
    "    ch = len(word)\n",
    "    sum = sum + ch\n",
    "    avg = sum / wordCount\n",
    "print(avg)"
   ]
  },
  {
   "cell_type": "code",
   "execution_count": 3,
   "metadata": {
    "scrolled": true
   },
   "outputs": [
    {
     "name": "stdout",
     "output_type": "stream",
     "text": [
      "i am very keen in building up my career in data science, but not sure from where to start. if i search the web it throws me thousands of articles, few are relevant others make me confused, again i come around to the same page. supervised has provided me a good platform to remove all such qualms which were wrangling in my mind\n"
     ]
    }
   ],
   "source": [
    "# 2)Lower the text in the string.\n",
    "r=s.lower()\n",
    "print(r)"
   ]
  },
  {
   "cell_type": "code",
   "execution_count": 25,
   "metadata": {
    "scrolled": true
   },
   "outputs": [
    {
     "name": "stdout",
     "output_type": "stream",
     "text": [
      "I am very keen in building up my career in Data Science but not sure from where to start If I search the web it throws me thousands of articles few are relevant others make me confused again I come around to the same page Supervised has provided me a good platform to remove all such qualms which were wrangling in my mind\n"
     ]
    }
   ],
   "source": [
    "# 3)Try to get the clean text removing the punctuation from the string.\n",
    "# Methood 1 : Regex\n",
    "# Remove the special charaters from the read string.\n",
    "import re\n",
    "no_specials_string = re.sub('[!#?,.:\";]', '', s)\n",
    "print(no_specials_string) \n",
    "# Methood 2 : translate()\n",
    "# Rake translator object\n",
    "#translator = str.maketrans('', '', string.punctuation)\n",
    "#data = data.translate(translator)\n",
    "#print(data)\n"
   ]
  },
  {
   "cell_type": "code",
   "execution_count": null,
   "metadata": {
    "collapsed": true
   },
   "outputs": [],
   "source": [
    "# 4)Extract word \"Data Science\" from the string.\n"
   ]
  },
  {
   "cell_type": "code",
   "execution_count": 69,
   "metadata": {},
   "outputs": [
    {
     "name": "stdout",
     "output_type": "stream",
     "text": [
      "[('make', 1), ('career', 1), ('from', 1), ('very', 1), ('up', 1), ('has', 1), ('qualms', 1), ('my', 2), ('sure', 1), ('to', 3), ('articles,', 1), ('confused,', 1), ('platform', 1), ('which', 1), ('keen', 1), ('Data', 1), ('good', 1), ('of', 1), ('building', 1), ('same', 1), ('Supervised', 1), ('come', 1), ('I', 3), ('again', 1), ('mind', 1), ('few', 1), ('the', 2), ('others', 1), ('start.', 1), ('remove', 1), ('thousands', 1), ('Science,', 1), ('a', 1), ('where', 1), ('around', 1), ('such', 1), ('in', 3), ('If', 1), ('not', 1), ('page.', 1), ('were', 1), ('provided', 1), ('all', 1), ('throws', 1), ('wrangling', 1), ('web', 1), ('am', 1), ('it', 1), ('relevant', 1), ('but', 1), ('me', 3), ('are', 1), ('search', 1)]\n"
     ]
    }
   ],
   "source": [
    "# 5)Find the frequency of words used in the string.\n",
    "#from collections import Counter\n",
    "#res = Counter(s)\n",
    "#print(res)\n",
    "t=s.split()\n",
    "wordfreq = []\n",
    "for w in t:\n",
    "    wordfreq.append(t.count(w))\n",
    "p=list(set(list(zip(t,wordfreq))))\n",
    "print(p)"
   ]
  },
  {
   "cell_type": "code",
   "execution_count": 23,
   "metadata": {},
   "outputs": [
    {
     "name": "stdout",
     "output_type": "stream",
     "text": [
      "Counter({'I': 3, 'in': 3, 'to': 3, 'me': 3, 'my': 2, 'the': 2, 'am': 1, 'very': 1, 'keen': 1, 'building': 1, 'up': 1, 'career': 1, 'Data': 1, 'Science,': 1, 'but': 1, 'not': 1, 'sure': 1, 'from': 1, 'where': 1, 'start.': 1, 'If': 1, 'search': 1, 'web': 1, 'it': 1, 'throws': 1, 'thousands': 1, 'of': 1, 'articles,': 1, 'few': 1, 'are': 1, 'relevant': 1, 'others': 1, 'make': 1, 'confused,': 1, 'again': 1, 'come': 1, 'around': 1, 'same': 1, 'page.': 1, 'Supervised': 1, 'has': 1, 'provided': 1, 'a': 1, 'good': 1, 'platform': 1, 'remove': 1, 'all': 1, 'such': 1, 'qualms': 1, 'which': 1, 'were': 1, 'wrangling': 1, 'mind': 1})\n"
     ]
    }
   ],
   "source": [
    "from collections import Counter\n",
    "t=s.split()\n",
    "counts = Counter(t)\n",
    "print(counts)"
   ]
  },
  {
   "cell_type": "code",
   "execution_count": 77,
   "metadata": {},
   "outputs": [
    {
     "name": "stdout",
     "output_type": "stream",
     "text": [
      "[('I', 3)]\n",
      "[('in', 3)]\n",
      "[('me', 3)]\n",
      "[('my', 2)]\n",
      "[('the', 2)]\n",
      "[('to', 3)]\n"
     ]
    }
   ],
   "source": [
    "# 6)Fetch the duplicate pairs used in the string.\n",
    "# First Approach, taking help from Above \n",
    "for k,v in sorted(p):\n",
    "    if v>1:\n",
    "        print(list(zip([k],[v])))"
   ]
  },
  {
   "cell_type": "code",
   "execution_count": 65,
   "metadata": {},
   "outputs": [
    {
     "name": "stdout",
     "output_type": "stream",
     "text": [
      "[('I', 3)]\n",
      "[('in', 3)]\n",
      "[('me', 3)]\n",
      "[('my', 2)]\n",
      "[('the', 2)]\n",
      "[('to', 3)]\n"
     ]
    }
   ],
   "source": [
    "# Second Approach\n",
    "import collections\n",
    "words = s.split()\n",
    "word_counts = collections.Counter(words)\n",
    "l2=[]\n",
    "for word, count in sorted(word_counts.items()):    #for word,count in sorted(counts):  as from above\n",
    "    if count>1:\n",
    "        print(list(zip([word],[count])))"
   ]
  },
  {
   "cell_type": "code",
   "execution_count": 48,
   "metadata": {},
   "outputs": [
    {
     "name": "stdout",
     "output_type": "stream",
     "text": [
      "I am very keen in building up my career in Data Science, but not sure from where to start. If I search the web it throws me thousands of articles, few are relevant others make me confused, again I come around to the same page. Unsupervised has provided me a good platform to remove all such qualms which were wrangling in my mind\n"
     ]
    }
   ],
   "source": [
    "# 7)Can you change the word \"Supervised\" to \"Unsupervised\" in the string\n",
    "y=s.replace('Supervised','Unsupervised')\n",
    "print(y)"
   ]
  },
  {
   "cell_type": "code",
   "execution_count": 78,
   "metadata": {},
   "outputs": [
    {
     "name": "stdout",
     "output_type": "stream",
     "text": [
      "['I am very keen in building up my career in Data Science, but not sure from where to start', ' If I search the web it throws me thousands of articles, few are relevant others make me confused, again I come around to the same page', ' Supervised has provided me a good platform to remove all such qualms which were wrangling in my mind']\n"
     ]
    }
   ],
   "source": [
    "# 8)Splitting of the string with a dot operator(.)\n",
    "j=s.split(\".\")\n",
    "print(j)"
   ]
  },
  {
   "cell_type": "code",
   "execution_count": 37,
   "metadata": {},
   "outputs": [
    {
     "name": "stdout",
     "output_type": "stream",
     "text": [
      "['sure', 'where', 'the', 'me', 'are', 'make', 'me', 'come', 'the', 'same', 'me', 'remove', 'were']\n"
     ]
    }
   ],
   "source": [
    "# 9)Find the words from the string which ends with \"e\"\n",
    "t=s.split()\n",
    "l2=[]\n",
    "for i in t:\n",
    "    if (i.endswith('e')):\n",
    "        l2.append(i)\n",
    "print(l2)"
   ]
  },
  {
   "cell_type": "code",
   "execution_count": 28,
   "metadata": {},
   "outputs": [
    {
     "name": "stdout",
     "output_type": "stream",
     "text": [
      "22\n"
     ]
    }
   ],
   "source": [
    "# 10)Figure out number of a's used in the string. \n",
    "from collections import Counter\n",
    "res = Counter(s)\n",
    "print(res['a'])"
   ]
  },
  {
   "cell_type": "markdown",
   "metadata": {},
   "source": [
    "Questions on Dictionary\n",
    "\n",
    "In the weekend , I purchased 250g of apple, 500g of sugar, 2.5 kg of rice, 2.5 litres of milk and finally 1 dozen of egg."
   ]
  },
  {
   "cell_type": "code",
   "execution_count": 29,
   "metadata": {
    "collapsed": true
   },
   "outputs": [],
   "source": [
    "# 1)Can you help me frame the above purchase in the form of dictionary with commodities as keys to it.\n",
    "d1={'apple':250,'sugar':500,'rice':2.5,'milk':2.5,'eggs':12}"
   ]
  },
  {
   "cell_type": "code",
   "execution_count": 30,
   "metadata": {},
   "outputs": [
    {
     "name": "stdout",
     "output_type": "stream",
     "text": [
      "{'apple': 250, 'sugar': 500, 'rice': 2.5, 'milk': 2.5, 'eggs': 12, 'Atta': 1}\n"
     ]
    }
   ],
   "source": [
    "# 2)I forgot to mention another item, 1kg of atta packet. Can you also add it ?\n",
    "d1['Atta']=1\n",
    "print(d1)"
   ]
  },
  {
   "cell_type": "code",
   "execution_count": 32,
   "metadata": {},
   "outputs": [
    {
     "name": "stdout",
     "output_type": "stream",
     "text": [
      "{'apple': 250, 'sugar': 500, 'rice': 1, 'milk': 2.5, 'eggs': 12, 'Atta': 1}\n"
     ]
    }
   ],
   "source": [
    "# 3)Instead of 2kg of rice, I bought only 1kg of rice. Can you change the corresponding value ?\n",
    "d1['rice']=1\n",
    "print(d1)"
   ]
  },
  {
   "cell_type": "code",
   "execution_count": 34,
   "metadata": {},
   "outputs": [
    {
     "name": "stdout",
     "output_type": "stream",
     "text": [
      "('apple', 250)\n",
      "('sugar', 500)\n",
      "('rice', 1)\n",
      "('milk', 2.5)\n",
      "('eggs', 12)\n",
      "('Atta', 1)\n"
     ]
    }
   ],
   "source": [
    "# 4)Can you list out all these items using a loop.\n",
    "for i in d1.items():\n",
    "    print(i)"
   ]
  },
  {
   "cell_type": "markdown",
   "metadata": {},
   "source": [
    "However, the cost of 1 kg apple is Rs.220, 1 kg of sugar is Rs.43, 1 Kg of rice is Rs. 45, 1 litre of milk is Rs.30 and 1 dozen of egg is Rs. 60."
   ]
  },
  {
   "cell_type": "code",
   "execution_count": 104,
   "metadata": {
    "collapsed": true
   },
   "outputs": [],
   "source": [
    "#Create another dictionary for pricing.\n",
    "Price_Per_Unit={'apple':220,'sugar':43,'rice':45,'milk':30,'eggs':60}"
   ]
  },
  {
   "cell_type": "code",
   "execution_count": 107,
   "metadata": {},
   "outputs": [
    {
     "name": "stdout",
     "output_type": "stream",
     "text": [
      "{'apple': 55.0, 'sugar': 21.5, 'rice': 45.0, 'milk': 75.0, 'eggs': 60.0}\n",
      "256.5\n"
     ]
    }
   ],
   "source": [
    "#Thereby, prepare a bill for me of the overall cost of the total commodities purchased by using two dictionaries !\n",
    "Num_of_Units={'apple':0.25,'sugar':0.5,'rice':1.0,'milk':2.5,'eggs':1.0}\n",
    "Final_bill={k:Price_Per_Unit[k] * Num_of_Units[k] for k in Price_Per_Unit}\n",
    "print(Final_bill)\n",
    "l1=[Price_Per_Unit[k] * Num_of_Units[k] for k in Price_Per_Unit]\n",
    "smn=0\n",
    "for i in l1:\n",
    "    smn+=i\n",
    "print(smn)"
   ]
  },
  {
   "cell_type": "markdown",
   "metadata": {},
   "source": [
    "Questions on List"
   ]
  },
  {
   "cell_type": "code",
   "execution_count": 120,
   "metadata": {
    "collapsed": true
   },
   "outputs": [],
   "source": [
    "AI_companies=['Amazon','Facebook','HiSilicon','Google','Apple','Microsoft','SenseTime']"
   ]
  },
  {
   "cell_type": "code",
   "execution_count": 121,
   "metadata": {},
   "outputs": [
    {
     "data": {
      "text/plain": [
       "['Amazon',\n",
       " 'Apple',\n",
       " 'Facebook',\n",
       " 'Google',\n",
       " 'HiSilicon',\n",
       " 'Microsoft',\n",
       " 'SenseTime']"
      ]
     },
     "execution_count": 121,
     "metadata": {},
     "output_type": "execute_result"
    }
   ],
   "source": [
    "#Sort the list in ascending order\n",
    "sorted(AI_companies)"
   ]
  },
  {
   "cell_type": "code",
   "execution_count": 122,
   "metadata": {},
   "outputs": [
    {
     "name": "stdout",
     "output_type": "stream",
     "text": [
      "['Amazon', 'Facebook', 'HiSilicon', 'Google', 'Apple', 'Microsoft', 'SenseTime', 'Nvidia', 'OpenAI', 'Qualcomm', 'Reliance']\n"
     ]
    }
   ],
   "source": [
    "#Add multiple companies at once 'Nvidia', 'OpenAI' , 'Qualcomm' and 'Reliance' to the list\n",
    "AI_companies.extend(['Nvidia','OpenAI','Qualcomm','Reliance'])\n",
    "print(AI_companies)"
   ]
  },
  {
   "cell_type": "code",
   "execution_count": 123,
   "metadata": {},
   "outputs": [
    {
     "name": "stdout",
     "output_type": "stream",
     "text": [
      "['amazon', 'facebook', 'hisilicon', 'google', 'apple', 'microsoft', 'sensetime', 'nvidia', 'openai', 'qualcomm', 'reliance']\n"
     ]
    }
   ],
   "source": [
    "#Lower the list using List comprehension\n",
    "new=[f.lower() for f in AI_companies]\n",
    "print(new)"
   ]
  },
  {
   "cell_type": "code",
   "execution_count": 124,
   "metadata": {},
   "outputs": [
    {
     "name": "stdout",
     "output_type": "stream",
     "text": [
      "['Amazon', 'Facebook', 'HiSilicon', 'Google', 'Apple', 'Microsoft', 'SenseTime', 'Nvidia', 'OpenAI', 'Qualcomm']\n"
     ]
    }
   ],
   "source": [
    "#Elimiate 'Reliance' from the list\n",
    "AI_companies.remove('Reliance')\n",
    "print(AI_companies)"
   ]
  },
  {
   "cell_type": "code",
   "execution_count": 140,
   "metadata": {},
   "outputs": [
    {
     "data": {
      "text/plain": [
       "['Facebook', 'Google', 'Microsoft']"
      ]
     },
     "execution_count": 140,
     "metadata": {},
     "output_type": "execute_result"
    }
   ],
   "source": [
    "#Extract 'Facebook', 'Google' and 'Microsoft' using a single command\n",
    "AI_companies[1:7:2]"
   ]
  },
  {
   "cell_type": "markdown",
   "metadata": {},
   "source": [
    "Questions on Tuple"
   ]
  },
  {
   "cell_type": "code",
   "execution_count": 151,
   "metadata": {},
   "outputs": [
    {
     "name": "stdout",
     "output_type": "stream",
     "text": [
      "(('apple', 220), ('sugar', 43), ('rice', 45), ('milk', 30), ('eggs', 60))\n"
     ]
    }
   ],
   "source": [
    "#Consider the above standard price problem statement and place the prices in the form of the tuple\n",
    "#print(Final_bill)\n",
    "#print(Price_Per_Unit)\n",
    "l2=[(k,v) for k,v in Price_Per_Unit.items()]\n",
    "Price_tup=tuple(l2)\n",
    "print(Price_tup)\n",
    "#'apple':220,'sugar':43,'rice':45,'milk':30,'eggs':60\n",
    "l3=[220,43,45,30,60]\n",
    "Only_pice_tup=tuple(l3)"
   ]
  },
  {
   "cell_type": "code",
   "execution_count": 153,
   "metadata": {},
   "outputs": [
    {
     "name": "stdout",
     "output_type": "stream",
     "text": [
      "220\n",
      "30\n"
     ]
    }
   ],
   "source": [
    "#Find out the min and max price among them.\n",
    "mx=max(Only_pice_tup)\n",
    "print(mx)\n",
    "mn=min(Only_pice_tup)\n",
    "print(mn)"
   ]
  },
  {
   "cell_type": "code",
   "execution_count": 149,
   "metadata": {},
   "outputs": [
    {
     "name": "stdout",
     "output_type": "stream",
     "text": [
      "('Amazon', 'Facebook', 'HiSilicon', 'Google', 'Apple', 'Microsoft', 'SenseTime', 'Nvidia', 'OpenAI', 'Qualcomm')\n"
     ]
    }
   ],
   "source": [
    "#Also, convert the above \"AI_companies\" list to a tuple.\n",
    "AI_tuple=tuple(AI_companies)\n",
    "print(AI_tuple)"
   ]
  },
  {
   "cell_type": "code",
   "execution_count": 154,
   "metadata": {},
   "outputs": [
    {
     "name": "stdout",
     "output_type": "stream",
     "text": [
      "('Amazon', 'Facebook', 'HiSilicon', 'Google', 'Apple', 'Microsoft', 'SenseTime', 'Nvidia', 'OpenAI', 'Qualcomm', 220, 43, 45, 30, 60)\n"
     ]
    }
   ],
   "source": [
    "#Combine two above tuples to a single tuple.\n",
    "x= AI_tuple + Only_pice_tup\n",
    "print(x)\n"
   ]
  },
  {
   "cell_type": "code",
   "execution_count": 165,
   "metadata": {},
   "outputs": [
    {
     "data": {
      "text/plain": [
       "-1"
      ]
     },
     "execution_count": 165,
     "metadata": {},
     "output_type": "execute_result"
    }
   ],
   "source": [
    "#Compare the length of two tuples.\n",
    "def cmp(a, b):\n",
    "    return (a > b) - (a < b)\n",
    "a=len(AI_tuple)\n",
    "b=len(Only_pice_tup)\n",
    "cmp(5,6)"
   ]
  }
 ],
 "metadata": {
  "kernelspec": {
   "display_name": "Python 3",
   "language": "python",
   "name": "python3"
  },
  "language_info": {
   "codemirror_mode": {
    "name": "ipython",
    "version": 3
   },
   "file_extension": ".py",
   "mimetype": "text/x-python",
   "name": "python",
   "nbconvert_exporter": "python",
   "pygments_lexer": "ipython3",
   "version": "3.6.3"
  }
 },
 "nbformat": 4,
 "nbformat_minor": 2
}
