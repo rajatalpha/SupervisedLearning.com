{
 "cells": [
  {
   "cell_type": "code",
   "execution_count": 2,
   "metadata": {},
   "outputs": [],
   "source": [
    "#importing the required packages for the assignment\n",
    "import numpy as np\n",
    "import pandas as pd\n",
    "import matplotlib.pyplot as plt\n",
    "import matplotlib.colors\n",
    "import seaborn as sns\n",
    "import os\n",
    "%matplotlib inline"
   ]
  },
  {
   "cell_type": "code",
   "execution_count": 3,
   "metadata": {},
   "outputs": [
    {
     "data": {
      "text/plain": [
       "'C:\\\\Users\\\\Rajat\\\\Machine Learning\\\\machine-learning-ex\\\\machine-learning-ex\\\\SupervisedLearningAssignments'"
      ]
     },
     "execution_count": 3,
     "metadata": {},
     "output_type": "execute_result"
    }
   ],
   "source": [
    "import os#parameter Setting for the notebook(Use as and when required)\n",
    "#pd.set_option('display.max_columns', 500)\n",
    "#os.chdir(r\"C:\\Users\\Rajat\\Machine Learning\\machine-learning-ex\\machine-learning-ex\\Datasets\")\n",
    "#cwd = os.getcwd()  # Get the current working directory (cwd)\n",
    "#files = os.listdir(cwd)  # Get all the files in that directory\n",
    "os.getcwd()"
   ]
  },
  {
   "cell_type": "code",
   "execution_count": null,
   "metadata": {
    "collapsed": true
   },
   "outputs": [],
   "source": [
    "1. Create a 1D array of numbers from 0 to 9.\n",
    "\n",
    "2. Create a 3×3 numpy array of all True’s\n",
    "\n",
    "3. Given an array as input, print only odd numbers as output\n",
    "\n",
    "4. Replace all odd numbers in arr with -2\n",
    "\n",
    "5. How to reshape an array?\n",
    "\n",
    "6. Convert a 1D array to a 2D array with 2 rows\n",
    "\n",
    "7. Given an array  a  = [1,2,3,4,5,6,7,8,9] , create  new array b from a such that b includes all odd numbers and 4 multiples. \n",
    "\n",
    "8. Given array, check if there are any null values and print them out. \n",
    "\n",
    "9. How to replace all missing values with 0 in a numpy array?\n",
    "\n",
    "10. How to find the count of each unique number in a NumPy array?\n",
    "\n",
    "11. How to convert a numeric to a categorical (text) array?\n",
    "\n",
    "12. Write a program to print all numbers between 99 and 299 which are either divisible by 5 or 7. Exclude the elements which are divisible by both. \n",
    "\n",
    "13. Write a program to reverse an array and print (Don’t use inbuilt reverse functions)"
   ]
  },
  {
   "cell_type": "code",
   "execution_count": 12,
   "metadata": {},
   "outputs": [
    {
     "name": "stdout",
     "output_type": "stream",
     "text": [
      "[0 1 2 3 4 5 6 7 8 9]\n",
      "(10,)\n"
     ]
    }
   ],
   "source": [
    "#1. Create a 1D array of numbers from 0 to 9.\n",
    "a = np.arange(10)    #.reshape(2,5), used to change the  shape of the array\n",
    "print(a)\n",
    "print(a.shape)"
   ]
  },
  {
   "cell_type": "code",
   "execution_count": 16,
   "metadata": {},
   "outputs": [
    {
     "name": "stdout",
     "output_type": "stream",
     "text": [
      "<class 'numpy.ndarray'>\n",
      "[[ True  True  True]\n",
      " [ True  True  True]\n",
      " [ True  True  True]]\n"
     ]
    }
   ],
   "source": [
    "#2. Create a 3×3 numpy array of all True’s\n",
    "b = np.ones((3,3),dtype = bool)\n",
    "print(type(b))\n",
    "print(b)"
   ]
  },
  {
   "cell_type": "code",
   "execution_count": 33,
   "metadata": {},
   "outputs": [
    {
     "name": "stdout",
     "output_type": "stream",
     "text": [
      "Enter space seperated elements of the array: 1 3 5 9 12\n",
      "{1, 3, 5, 9}\n"
     ]
    }
   ],
   "source": [
    "#3 Given an array as input, print only odd numbers as output\n",
    "#Considerinf 1d arrays:\n",
    "b = list(map(int,input('Enter space seperated elements of the array: ').split()))\n",
    "c=[i for i in b if i%2!=0]\n",
    "print(set(c))"
   ]
  },
  {
   "cell_type": "code",
   "execution_count": 35,
   "metadata": {},
   "outputs": [
    {
     "name": "stdout",
     "output_type": "stream",
     "text": [
      "Enter space seperated elements of the array: 1 8 15 \n",
      "[-2, 8, -2]\n"
     ]
    }
   ],
   "source": [
    "#4. Replace all odd numbers in arr with -2\n",
    "b = list(map(int,input('Enter space seperated elements of the array: ').split()))\n",
    "b=[-2 if i%2!=0 else i for i in b]\n",
    "print(b)"
   ]
  },
  {
   "cell_type": "code",
   "execution_count": 41,
   "metadata": {},
   "outputs": [
    {
     "name": "stdout",
     "output_type": "stream",
     "text": [
      "Enter space seperated elements of the array: 1 5 9 7 5 3\n",
      "Enter the shape: 2 3 \n",
      "Shape of array is (2, 3)\n",
      "[[1 5 9]\n",
      " [7 5 3]]\n"
     ]
    }
   ],
   "source": [
    "#5. How to reshape an array?\n",
    "b = list(map(int,input('Enter space seperated elements of the array: ').split()))\n",
    "c,d = map(int,input('Enter the shape: ').split())\n",
    "b = np.array(b).reshape(c,d)\n",
    "print('Shape of array is',b.shape)\n",
    "print(b)"
   ]
  },
  {
   "cell_type": "code",
   "execution_count": 43,
   "metadata": {},
   "outputs": [
    {
     "name": "stdout",
     "output_type": "stream",
     "text": [
      "Enter space seperated elements of the array: 1 5 9 7 5 3\n",
      "[[1 5]\n",
      " [9 7]\n",
      " [5 3]]\n"
     ]
    }
   ],
   "source": [
    "#6. Convert a 1D array to a 2D array with 2 rows\n",
    "b = list(map(int,input('Enter space seperated elements of the array: ').split()))\n",
    "a = np.reshape(b, (-1, 2))\n",
    "print(a)"
   ]
  },
  {
   "cell_type": "code",
   "execution_count": 50,
   "metadata": {},
   "outputs": [
    {
     "name": "stdout",
     "output_type": "stream",
     "text": [
      "[1, 3, 4, 5, 7, 8, 9]\n"
     ]
    }
   ],
   "source": [
    "#7. Given an array  a  = [1,2,3,4,5,6,7,8,9] , create  new array b from a such that b includes all odd numbers and 4 multiples.\n",
    "a  = [1,2,3,4,5,6,7,8,9]\n",
    "b = [i for i in a if (i%4==0 or i%2!=0)]\n",
    "print(b)"
   ]
  },
  {
   "cell_type": "code",
   "execution_count": 55,
   "metadata": {},
   "outputs": [
    {
     "data": {
      "text/plain": [
       "True"
      ]
     },
     "execution_count": 55,
     "metadata": {},
     "output_type": "execute_result"
    }
   ],
   "source": [
    "#8.Given array, check if there are any null values and print them out\n",
    "a=[1,55,None]\n",
    "None in a"
   ]
  },
  {
   "cell_type": "code",
   "execution_count": 63,
   "metadata": {},
   "outputs": [
    {
     "name": "stdout",
     "output_type": "stream",
     "text": [
      "['']\n"
     ]
    }
   ],
   "source": [
    "b= ['A', '','C']\n",
    "b= [i for i in b if not i]\n",
    "print(b)"
   ]
  },
  {
   "cell_type": "code",
   "execution_count": 61,
   "metadata": {},
   "outputs": [
    {
     "name": "stdout",
     "output_type": "stream",
     "text": [
      "[1, 55, 0]\n"
     ]
    }
   ],
   "source": [
    "#9. How to replace all missing values with 0 in a numpy array?\n",
    "a=[1,55,None]\n",
    "a=[0 if i==None else i for i in a]\n",
    "print(a)"
   ]
  },
  {
   "cell_type": "code",
   "execution_count": 66,
   "metadata": {},
   "outputs": [
    {
     "name": "stdout",
     "output_type": "stream",
     "text": [
      "['A', 0, 'C']\n"
     ]
    }
   ],
   "source": [
    "b= ['A', '','C']\n",
    "b= [i if i else 0 for i in b]\n",
    "print(b)"
   ]
  },
  {
   "cell_type": "code",
   "execution_count": 72,
   "metadata": {},
   "outputs": [
    {
     "name": "stdout",
     "output_type": "stream",
     "text": [
      "Enter space seperated elements of the array: 1 5 5\n",
      "Unique Numbers in list:  2\n",
      "{1: 1, 5: 2}\n",
      "{1: 1, 5: 2}\n"
     ]
    }
   ],
   "source": [
    "#10. How to find the count of each unique number in a NumPy array?\n",
    "b = list(map(int,input('Enter space seperated elements of the array: ').split()))\n",
    "print('Unique Numbers in list: ',len(set(b)))\n",
    "#dictionary comprehension to get count of unique elements in an array\n",
    "freq = {} \n",
    "for items in b: \n",
    "    freq[items] = b.count(items) \n",
    "print(freq)\n",
    "di = {i:b.count(i) for i in b}\n",
    "print(di)"
   ]
  },
  {
   "cell_type": "code",
   "execution_count": 73,
   "metadata": {},
   "outputs": [
    {
     "name": "stdout",
     "output_type": "stream",
     "text": [
      "['1', '2', '3']\n"
     ]
    }
   ],
   "source": [
    "#11. How to convert a numeric to a categorical (text) array?\n",
    "A = [1, 2 ,3]\n",
    "A = [str(i) for i in A]\n",
    "print(A)"
   ]
  },
  {
   "cell_type": "code",
   "execution_count": 79,
   "metadata": {},
   "outputs": [
    {
     "name": "stdout",
     "output_type": "stream",
     "text": [
      "[100, 110, 112, 115, 119, 120, 125, 126, 130, 133, 135, 145, 147, 150, 154, 155, 160, 161, 165, 168, 170, 180, 182, 185, 189, 190, 195, 196, 200, 203, 205, 215, 217, 220, 224, 225, 230, 231, 235, 238, 240, 250, 252, 255, 259, 260, 265, 266, 270, 273, 275, 285, 287, 290, 294, 295]\n"
     ]
    }
   ],
   "source": [
    "#12. Write a program to print all numbers between 99 and 299 which are either divisible by 5 or 7. Exclude the elements which are divisible by both.\n",
    "b = [i for i in range(99,300) if (i%5==0) ^ (i%7==0)]  \n",
    "print(b)"
   ]
  },
  {
   "cell_type": "code",
   "execution_count": 83,
   "metadata": {},
   "outputs": [
    {
     "data": {
      "text/plain": [
       "[155, 999999, 156156, 165165, 651561, 561, 15616, 668, 11]"
      ]
     },
     "execution_count": 83,
     "metadata": {},
     "output_type": "execute_result"
    }
   ],
   "source": [
    "#13. Write a program to reverse an array and print (Don’t use inbuilt reverse functions)\n",
    "a = [11,668,15616,561,651561,165165,156156,999999,155]\n",
    "a[::-1]"
   ]
  }
 ],
 "metadata": {
  "kernelspec": {
   "display_name": "Python 3",
   "language": "python",
   "name": "python3"
  },
  "language_info": {
   "codemirror_mode": {
    "name": "ipython",
    "version": 3
   },
   "file_extension": ".py",
   "mimetype": "text/x-python",
   "name": "python",
   "nbconvert_exporter": "python",
   "pygments_lexer": "ipython3",
   "version": "3.6.3"
  }
 },
 "nbformat": 4,
 "nbformat_minor": 2
}
